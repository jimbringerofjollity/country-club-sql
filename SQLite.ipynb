{
 "cells": [
  {
   "cell_type": "markdown",
   "metadata": {},
   "source": [
    "Connect to the (locally stored) SQLite database"
   ]
  },
  {
   "cell_type": "code",
   "execution_count": 1,
   "metadata": {},
   "outputs": [],
   "source": [
    "import pandas as pd\n",
    "import sqlite3\n",
    "con = sqlite3.connect('sqlite_db_pythonsqlite.db')"
   ]
  },
  {
   "cell_type": "markdown",
   "metadata": {},
   "source": [
    "Q10: Produce a list of facilities with a total revenue less than 1000.\n",
    "The output of facility name and total revenue, sorted by revenue. Remember\n",
    "that there's a different cost for guests and members!"
   ]
  },
  {
   "cell_type": "code",
   "execution_count": 2,
   "metadata": {},
   "outputs": [
    {
     "name": "stdout",
     "output_type": "stream",
     "text": [
      "        facility  revenue\n",
      "0   Table Tennis      180\n",
      "1  Snooker Table      240\n",
      "2     Pool Table      270\n"
     ]
    }
   ],
   "source": [
    "q10 = pd.read_sql_query('SELECT * FROM'\n",
    "'(SELECT `f`.`name` AS `facility`,'\n",
    "'SUM(CASE WHEN `b`.`memid` = 0 THEN `f`.`guestcost`*`b`.`slots` ELSE `f`.`membercost`*`b`.`slots` END) AS `revenue`'\n",
    "'FROM `Bookings`  AS `b`'\n",
    "'LEFT JOIN `Facilities` AS `f`'\n",
    "'ON `f`.`facid` = `b`.`facid`'\n",
    "'LEFT JOIN `Members` AS `m`'\n",
    "'ON `b`.`memid` = `m`.`memid`'\n",
    "'GROUP BY `facility`'\n",
    "'ORDER BY `revenue`) AS `q`'\n",
    "'WHERE `revenue` < 1000.0', con)\n",
    "print(q10)"
   ]
  },
  {
   "cell_type": "markdown",
   "metadata": {},
   "source": [
    "Q11: Produce a report of members and who recommended them in alphabetic surname, firstname order"
   ]
  },
  {
   "cell_type": "code",
   "execution_count": 3,
   "metadata": {},
   "outputs": [
    {
     "name": "stdout",
     "output_type": "stream",
     "text": [
      "       member surname member firstname recommended         by\n",
      "0            Joplette           Janice       Smith     Darren\n",
      "1             Butters           Gerald       Smith     Darren\n",
      "2                Dare            Nancy    Joplette     Janice\n",
      "3              Boothe              Tim      Rownam        Tim\n",
      "4            Stibbons           Ponder       Tracy     Burton\n",
      "5                Owen          Charles       Smith     Darren\n",
      "6               Jones            David    Joplette     Janice\n",
      "7               Baker             Anne    Stibbons     Ponder\n",
      "8               Smith             Jack       Smith     Darren\n",
      "9               Bader         Florence    Stibbons     Ponder\n",
      "10              Baker          Timothy     Farrell     Jemima\n",
      "11             Pinker            David     Farrell     Jemima\n",
      "12            Genting          Matthew     Butters     Gerald\n",
      "13          Mackenzie             Anna       Smith     Darren\n",
      "14             Coplin             Joan       Baker    Timothy\n",
      "15             Sarwin        Ramnaresh       Bader   Florence\n",
      "16              Jones          Douglas       Jones      David\n",
      "17             Rumney        Henrietta     Genting    Matthew\n",
      "18  Worthington-Smyth            Henry       Smith      Tracy\n",
      "19            Purview        Millicent       Smith      Tracy\n",
      "20               Hunt             John     Purview  Millicent\n",
      "21            Crumpet            Erica       Smith      Tracy\n"
     ]
    }
   ],
   "source": [
    "q11 = pd.read_sql_query('SELECT `m`.`surname` AS `member surname`, `m`.`firstname` AS `member firstname`,'\n",
    "'`q`.`surname` AS `recommended`, `q`.`firstname` AS `by`'\n",
    "'FROM `Members` AS `m`'\n",
    "'LEFT JOIN (SELECT `memid`, `firstname`, `surname` FROM `Members`) AS `q`'\n",
    "'ON `m`.`recommendedby` = `q`.`memid`'\n",
    "'WHERE `q`.`memid` != 0', con)\n",
    "print(q11)"
   ]
  },
  {
   "cell_type": "markdown",
   "metadata": {},
   "source": [
    "Q12: Find the facilities with their usage by member, but not guests"
   ]
  },
  {
   "cell_type": "code",
   "execution_count": 4,
   "metadata": {},
   "outputs": [
    {
     "name": "stdout",
     "output_type": "stream",
     "text": [
      "           facility  firstname            surname  usage\n",
      "0    Tennis Court 1      Tracy              Smith    435\n",
      "1    Tennis Court 1     Gerald            Butters    409\n",
      "2    Tennis Court 1    Charles               Owen    345\n",
      "3    Tennis Court 1       Anne              Baker    296\n",
      "4    Tennis Court 1      David            Farrell     50\n",
      "5    Tennis Court 1       John               Hunt     40\n",
      "6    Tennis Court 2     Burton              Tracy    366\n",
      "7    Tennis Court 2        Tim             Boothe    440\n",
      "8    Tennis Court 2     Ponder           Stibbons    249\n",
      "9    Tennis Court 2      David              Jones    305\n",
      "10   Tennis Court 2    Timothy              Baker    290\n",
      "11   Tennis Court 2  Ramnaresh             Sarwin    153\n",
      "12  Badminton Court      Nancy               Dare    267\n",
      "13  Badminton Court   Florence              Bader    237\n",
      "14  Badminton Court       Anna          Mackenzie    231\n",
      "15  Badminton Court    Douglas              Jones     37\n",
      "16  Badminton Court      Henry  Worthington-Smyth     60\n",
      "17  Badminton Court  Millicent            Purview     32\n",
      "18  Badminton Court      Erica            Crumpet     17\n",
      "19     Table Tennis     Darren              Smith    685\n",
      "20     Table Tennis     Jemima            Farrell    180\n",
      "21   Massage Room 1        Tim             Rownam    660\n",
      "22   Massage Room 1     Janice           Joplette    326\n",
      "23   Massage Room 1       Jack              Smith    219\n",
      "24   Massage Room 2    Matthew            Genting    131\n",
      "25    Snooker Table      David             Pinker    159\n",
      "26    Snooker Table       Joan             Coplin    106\n",
      "27    Snooker Table  Henrietta             Rumney     38\n",
      "28    Snooker Table   Hyacinth         Tupperware     28\n"
     ]
    }
   ],
   "source": [
    "q12 = pd.read_sql_query('SELECT `facility`, `firstname`, `surname`, `usage` FROM'\n",
    "'(SELECT `f`.`name` AS `facility`,`m`.`memid`,`m`.`firstname`, `m`.`surname`,'\n",
    "'SUM(`b`.`slots`) AS `usage`'\n",
    "'FROM `Bookings`AS `b`'\n",
    "'LEFT JOIN `Facilities` AS `f`'\n",
    "'ON `f`.`facid` = `b`.`facid`'\n",
    "'LEFT JOIN `Members` AS `m`'\n",
    "'ON `b`.`memid` = `m`.`memid`'\n",
    "'GROUP BY `m`.`memid`'\n",
    "'ORDER BY `f`.`facid`)'\n",
    "'WHERE `memid` != 0', con)\n",
    "print(q12)"
   ]
  },
  {
   "cell_type": "markdown",
   "metadata": {},
   "source": [
    "Q13: Find the facilities usage by month, but not guests"
   ]
  },
  {
   "cell_type": "code",
   "execution_count": 5,
   "metadata": {
    "scrolled": true
   },
   "outputs": [
    {
     "name": "stdout",
     "output_type": "stream",
     "text": [
      "           facility    month  usage\n",
      "0    Tennis Court 1  2012-07    201\n",
      "1    Tennis Court 1  2012-08    339\n",
      "2    Tennis Court 1  2012-09    417\n",
      "3    Tennis Court 2  2012-07    123\n",
      "4    Tennis Court 2  2012-08    345\n",
      "5    Tennis Court 2  2012-09    414\n",
      "6   Badminton Court  2012-07    165\n",
      "7   Badminton Court  2012-08    414\n",
      "8   Badminton Court  2012-09    507\n",
      "9      Table Tennis  2012-07     98\n",
      "10     Table Tennis  2012-08    296\n",
      "11     Table Tennis  2012-09    400\n",
      "12   Massage Room 1  2012-07    166\n",
      "13   Massage Room 1  2012-08    316\n",
      "14   Massage Room 1  2012-09    402\n",
      "15   Massage Room 2  2012-07      8\n",
      "16   Massage Room 2  2012-08     18\n",
      "17   Massage Room 2  2012-09     28\n",
      "18     Squash Court  2012-07     50\n",
      "19     Squash Court  2012-08    184\n",
      "20     Squash Court  2012-09    184\n",
      "21    Snooker Table  2012-07    140\n",
      "22    Snooker Table  2012-08    316\n",
      "23    Snooker Table  2012-09    404\n",
      "24       Pool Table  2012-07    110\n",
      "25       Pool Table  2012-08    303\n",
      "26       Pool Table  2012-09    443\n"
     ]
    }
   ],
   "source": [
    "q13 = pd.read_sql_query(''\n",
    "'SELECT `f`.`name` AS `facility`,'\n",
    "'SUBSTR(`b`.`starttime`,1,7) AS `month`,'\n",
    "'SUM(CASE WHEN `b`.`memid` = 0 THEN 0 ELSE `b`.`slots` END) AS `usage`'\n",
    "'FROM `Bookings` AS `b`'\n",
    "'LEFT JOIN `Facilities` AS `f`'\n",
    "'ON `f`.`facid` = `b`.`facid`'\n",
    "'LEFT JOIN `Members` AS `m`'\n",
    "'ON `b`.`memid` = `m`.`memid`'\n",
    "'GROUP BY `f`.`facid`,`month`'\n",
    "'ORDER BY `f`.`facid`,`month`', con)\n",
    "print(q13)"
   ]
  },
  {
   "cell_type": "markdown",
   "metadata": {},
   "source": [
    "Close the connection since we're done"
   ]
  },
  {
   "cell_type": "code",
   "execution_count": 6,
   "metadata": {},
   "outputs": [],
   "source": [
    "con.close()"
   ]
  }
 ],
 "metadata": {
  "kernelspec": {
   "display_name": "Python 3",
   "language": "python",
   "name": "python3"
  },
  "language_info": {
   "codemirror_mode": {
    "name": "ipython",
    "version": 3
   },
   "file_extension": ".py",
   "mimetype": "text/x-python",
   "name": "python",
   "nbconvert_exporter": "python",
   "pygments_lexer": "ipython3",
   "version": "3.7.8"
  }
 },
 "nbformat": 4,
 "nbformat_minor": 4
}
